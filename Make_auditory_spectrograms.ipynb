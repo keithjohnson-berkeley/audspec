{
 "cells": [
  {
   "cell_type": "markdown",
   "id": "4ab85dc5",
   "metadata": {},
   "source": [
    "## Make and view auditory spectrograms"
   ]
  },
  {
   "cell_type": "code",
   "execution_count": 1,
   "id": "e62d2340",
   "metadata": {},
   "outputs": [],
   "source": [
    "from pathlib import Path\n",
    "from audspec import Audspec\n",
    "from phonlab.utils import dir2df"
   ]
  },
  {
   "cell_type": "markdown",
   "id": "b965fc61",
   "metadata": {},
   "source": [
    "## Customize"
   ]
  },
  {
   "cell_type": "code",
   "execution_count": 2,
   "id": "4412f71b",
   "metadata": {},
   "outputs": [],
   "source": [
    "# Where to find the .wav files and textgrids.\n",
    "wavdir = Path(\n",
    "    'G:/.shortcut-targets-by-id/1HR3dpND6KDuywK8enT1fkmh7Fq1daZlC/09_25_22'\n",
    ")\n",
    "# Where to stash the spectrograms.\n",
    "specdir = Path(\n",
    "    'G:/.shortcut-targets-by-id/1HR3dpND6KDuywK8enT1fkmh7Fq1daZlC/09_25_22/audspec.new'\n",
    ")\n",
    "\n",
    "fs = 22050     # The .wav files will be resampled to the rate specified by `fs`.\n",
    "step = 0.005  # The frame step for the spectrogram, in seconds.\n",
    "maxpatterson_coef = 100\n",
    "rfftparams = {            # Params passed to rfft() in make_zgram()\n",
    "    'overwrite_x': True,  # Try to reduce memory usage\n",
    "    'workers': -1         # Use all CPUs\n",
    "}"
   ]
  },
  {
   "cell_type": "markdown",
   "id": "94781070",
   "metadata": {},
   "source": [
    "## Create the objects used in the analysis"
   ]
  },
  {
   "cell_type": "code",
   "execution_count": 3,
   "id": "da8e1c1d",
   "metadata": {},
   "outputs": [],
   "source": [
    "# The Audspec to use for each of the .wav files.\n",
    "aud = Audspec(fs, step_size=step, maxcbfiltn=maxpatterson_coef)\n",
    "\n",
    "# Create image filters.\n",
    "sharp_1 = aud.create_sharp_filter(span=3, mult=2)\n",
    "sharp_2 = aud.create_sharp_filter(span=6, mult=1)\n",
    "temporal_sharp = aud.create_sharp_filter(span=0.05, mult=1, dimension=\"time\")\n",
    "blur = aud.create_blur_filter(span=3, sigma=3)"
   ]
  },
  {
   "cell_type": "markdown",
   "id": "ec46029e",
   "metadata": {},
   "source": [
    "## Find files to analyze"
   ]
  },
  {
   "cell_type": "code",
   "execution_count": 4,
   "id": "51ea6614",
   "metadata": {},
   "outputs": [
    {
     "name": "stdout",
     "output_type": "stream",
     "text": [
      "Found 6 .wav files.\n"
     ]
    },
    {
     "data": {
      "text/html": [
       "<div>\n",
       "<style scoped>\n",
       "    .dataframe tbody tr th:only-of-type {\n",
       "        vertical-align: middle;\n",
       "    }\n",
       "\n",
       "    .dataframe tbody tr th {\n",
       "        vertical-align: top;\n",
       "    }\n",
       "\n",
       "    .dataframe thead th {\n",
       "        text-align: right;\n",
       "    }\n",
       "</style>\n",
       "<table border=\"1\" class=\"dataframe\">\n",
       "  <thead>\n",
       "    <tr style=\"text-align: right;\">\n",
       "      <th></th>\n",
       "      <th>relpath</th>\n",
       "      <th>fname</th>\n",
       "      <th>barename</th>\n",
       "    </tr>\n",
       "  </thead>\n",
       "  <tbody>\n",
       "    <tr>\n",
       "      <th>0</th>\n",
       "      <td>.</td>\n",
       "      <td>AN_F6_DI.wav</td>\n",
       "      <td>AN_F6_DI</td>\n",
       "    </tr>\n",
       "    <tr>\n",
       "      <th>1</th>\n",
       "      <td>.</td>\n",
       "      <td>AN_M2_CS.wav</td>\n",
       "      <td>AN_M2_CS</td>\n",
       "    </tr>\n",
       "    <tr>\n",
       "      <th>2</th>\n",
       "      <td>.</td>\n",
       "      <td>BA_F1_GL.wav</td>\n",
       "      <td>BA_F1_GL</td>\n",
       "    </tr>\n",
       "    <tr>\n",
       "      <th>3</th>\n",
       "      <td>.</td>\n",
       "      <td>BA_M2_LJ.wav</td>\n",
       "      <td>BA_M2_LJ</td>\n",
       "    </tr>\n",
       "    <tr>\n",
       "      <th>4</th>\n",
       "      <td>.</td>\n",
       "      <td>SA_F1_BP.wav</td>\n",
       "      <td>SA_F1_BP</td>\n",
       "    </tr>\n",
       "    <tr>\n",
       "      <th>5</th>\n",
       "      <td>.</td>\n",
       "      <td>SA_M3_CM.wav</td>\n",
       "      <td>SA_M3_CM</td>\n",
       "    </tr>\n",
       "  </tbody>\n",
       "</table>\n",
       "</div>"
      ],
      "text/plain": [
       "  relpath         fname  barename\n",
       "0       .  AN_F6_DI.wav  AN_F6_DI\n",
       "1       .  AN_M2_CS.wav  AN_M2_CS\n",
       "2       .  BA_F1_GL.wav  BA_F1_GL\n",
       "3       .  BA_M2_LJ.wav  BA_M2_LJ\n",
       "4       .  SA_F1_BP.wav  SA_F1_BP\n",
       "5       .  SA_M3_CM.wav  SA_M3_CM"
      ]
     },
     "execution_count": 4,
     "metadata": {},
     "output_type": "execute_result"
    }
   ],
   "source": [
    "wavdf = dir2df(wavdir, fnpat='\\.wav$', addcols=['barename'])\n",
    "print(f'Found {len(wavdf)} .wav files.')\n",
    "wavdf"
   ]
  },
  {
   "cell_type": "markdown",
   "id": "d07ceef9",
   "metadata": {},
   "source": [
    "## Find cached spectrogram files"
   ]
  },
  {
   "cell_type": "code",
   "execution_count": 5,
   "id": "9e091fa2",
   "metadata": {},
   "outputs": [
    {
     "name": "stdout",
     "output_type": "stream",
     "text": [
      "Found 3 .npz files.\n"
     ]
    },
    {
     "name": "stderr",
     "output_type": "stream",
     "text": [
      "C:\\ProgramData\\Miniconda3\\envs\\audspec\\lib\\site-packages\\phonlab\\utils.py:299: FutureWarning: In a future version, `df.iloc[:, i] = newvals` will attempt to set the values inplace instead of always setting a new array. To retain the old behavior, use either `df[df.columns[i]] = newvals` or, if columns are non-unique, `df.isetitem(i, newvals)`\n",
      "  df.loc[:, col] = df.loc[:, col].astype('category')\n"
     ]
    },
    {
     "data": {
      "text/html": [
       "<div>\n",
       "<style scoped>\n",
       "    .dataframe tbody tr th:only-of-type {\n",
       "        vertical-align: middle;\n",
       "    }\n",
       "\n",
       "    .dataframe tbody tr th {\n",
       "        vertical-align: top;\n",
       "    }\n",
       "\n",
       "    .dataframe thead th {\n",
       "        text-align: right;\n",
       "    }\n",
       "</style>\n",
       "<table border=\"1\" class=\"dataframe\">\n",
       "  <thead>\n",
       "    <tr style=\"text-align: right;\">\n",
       "      <th></th>\n",
       "      <th>relpath</th>\n",
       "      <th>fname</th>\n",
       "      <th>wavname</th>\n",
       "    </tr>\n",
       "  </thead>\n",
       "  <tbody>\n",
       "    <tr>\n",
       "      <th>0</th>\n",
       "      <td>.</td>\n",
       "      <td>AN_F6_DI.audspec.npz</td>\n",
       "      <td>AN_F6_DI</td>\n",
       "    </tr>\n",
       "    <tr>\n",
       "      <th>1</th>\n",
       "      <td>.</td>\n",
       "      <td>AN_M2_CS.audspec.npz</td>\n",
       "      <td>AN_M2_CS</td>\n",
       "    </tr>\n",
       "    <tr>\n",
       "      <th>2</th>\n",
       "      <td>.</td>\n",
       "      <td>BA_F1_GL.audspec.npz</td>\n",
       "      <td>BA_F1_GL</td>\n",
       "    </tr>\n",
       "  </tbody>\n",
       "</table>\n",
       "</div>"
      ],
      "text/plain": [
       "  relpath                 fname   wavname\n",
       "0       .  AN_F6_DI.audspec.npz  AN_F6_DI\n",
       "1       .  AN_M2_CS.audspec.npz  AN_M2_CS\n",
       "2       .  BA_F1_GL.audspec.npz  BA_F1_GL"
      ]
     },
     "execution_count": 5,
     "metadata": {},
     "output_type": "execute_result"
    }
   ],
   "source": [
    "specdf = dir2df(specdir, fnpat='(?P<wavname>.*)\\.audspec\\.npz$')\n",
    "print(f'Found {len(specdf)} .npz files.')\n",
    "specdf"
   ]
  },
  {
   "cell_type": "markdown",
   "id": "a1883191",
   "metadata": {},
   "source": [
    "## Merge to find .wav files that don't have a corresponding audspec file"
   ]
  },
  {
   "cell_type": "code",
   "execution_count": 6,
   "id": "14ffc238",
   "metadata": {},
   "outputs": [
    {
     "name": "stdout",
     "output_type": "stream",
     "text": [
      "Found 3 .wav files that need audspec processing.\n"
     ]
    },
    {
     "data": {
      "text/html": [
       "<div>\n",
       "<style scoped>\n",
       "    .dataframe tbody tr th:only-of-type {\n",
       "        vertical-align: middle;\n",
       "    }\n",
       "\n",
       "    .dataframe tbody tr th {\n",
       "        vertical-align: top;\n",
       "    }\n",
       "\n",
       "    .dataframe thead th {\n",
       "        text-align: right;\n",
       "    }\n",
       "</style>\n",
       "<table border=\"1\" class=\"dataframe\">\n",
       "  <thead>\n",
       "    <tr style=\"text-align: right;\">\n",
       "      <th></th>\n",
       "      <th>relpath_wav</th>\n",
       "      <th>fname_wav</th>\n",
       "      <th>barename</th>\n",
       "      <th>relpath_spec</th>\n",
       "      <th>fname_spec</th>\n",
       "      <th>wavname</th>\n",
       "    </tr>\n",
       "  </thead>\n",
       "  <tbody>\n",
       "    <tr>\n",
       "      <th>3</th>\n",
       "      <td>.</td>\n",
       "      <td>BA_M2_LJ.wav</td>\n",
       "      <td>BA_M2_LJ</td>\n",
       "      <td>NaN</td>\n",
       "      <td>NaN</td>\n",
       "      <td>NaN</td>\n",
       "    </tr>\n",
       "    <tr>\n",
       "      <th>4</th>\n",
       "      <td>.</td>\n",
       "      <td>SA_F1_BP.wav</td>\n",
       "      <td>SA_F1_BP</td>\n",
       "      <td>NaN</td>\n",
       "      <td>NaN</td>\n",
       "      <td>NaN</td>\n",
       "    </tr>\n",
       "    <tr>\n",
       "      <th>5</th>\n",
       "      <td>.</td>\n",
       "      <td>SA_M3_CM.wav</td>\n",
       "      <td>SA_M3_CM</td>\n",
       "      <td>NaN</td>\n",
       "      <td>NaN</td>\n",
       "      <td>NaN</td>\n",
       "    </tr>\n",
       "  </tbody>\n",
       "</table>\n",
       "</div>"
      ],
      "text/plain": [
       "  relpath_wav     fname_wav  barename relpath_spec fname_spec wavname\n",
       "3           .  BA_M2_LJ.wav  BA_M2_LJ          NaN        NaN     NaN\n",
       "4           .  SA_F1_BP.wav  SA_F1_BP          NaN        NaN     NaN\n",
       "5           .  SA_M3_CM.wav  SA_M3_CM          NaN        NaN     NaN"
      ]
     },
     "execution_count": 6,
     "metadata": {},
     "output_type": "execute_result"
    }
   ],
   "source": [
    "todo = wavdf.merge(specdf, how='left', left_on='barename', right_on='wavname', suffixes=['_wav', '_spec'])\n",
    "todo = todo[todo['fname_spec'].isna()]\n",
    "print(f'Found {len(todo)} .wav files that need audspec processing.')\n",
    "todo"
   ]
  },
  {
   "cell_type": "markdown",
   "id": "756dde69",
   "metadata": {},
   "source": [
    "## Create and cache spectrograms\n",
    "\n",
    "Create the auditory spectrograms and save in a `.npz` file. The `aud` object contains the acoustic and auditory spectrograms already, and you don't need to do anything special to save them when you call `savez()`. You can create other variables to be saved and pass them as additional parameters to `savez()`."
   ]
  },
  {
   "cell_type": "code",
   "execution_count": 7,
   "id": "ae431f86",
   "metadata": {},
   "outputs": [
    {
     "name": "stdout",
     "output_type": "stream",
     "text": [
      "Saved G:\\.shortcut-targets-by-id\\1HR3dpND6KDuywK8enT1fkmh7Fq1daZlC\\09_25_22\\audspec.new\\BA_M2_LJ.audspec.npz.\n",
      "Saved G:\\.shortcut-targets-by-id\\1HR3dpND6KDuywK8enT1fkmh7Fq1daZlC\\09_25_22\\audspec.new\\SA_F1_BP.audspec.npz.\n",
      "Saved G:\\.shortcut-targets-by-id\\1HR3dpND6KDuywK8enT1fkmh7Fq1daZlC\\09_25_22\\audspec.new\\SA_M3_CM.audspec.npz.\n"
     ]
    }
   ],
   "source": [
    "for row in todo.itertuples():\n",
    "    aud.make_zgram(\n",
    "        wavdir / row.relpath_wav / row.fname_wav,\n",
    "        rfftparams\n",
    "    )\n",
    "\n",
    "    # Apply image filters to spectrogram.\n",
    "    lgram = aud.apply_filt(aud.zgram, sharp_1, axis=0, half_rectify=True)\n",
    "    igram = aud.apply_filt(lgram, blur, axis=0, half_rectify=False)\n",
    "    lgram = aud.apply_filt(lgram, sharp_2, axis=0, half_rectify=True)\n",
    "    ogram = aud.apply_filt(aud.zgram, temporal_sharp, axis=1, half_rectify=True)\n",
    "\n",
    "    # Save to disk, adding filtered auditory spectrograms.\n",
    "    specname = specdir / f'{row.barename}.audspec.npz'\n",
    "    aud.savez(\n",
    "        specname,\n",
    "        igram=igram,   # Optional custom variables start from here.\n",
    "        lgram=lgram,\n",
    "        ogram=ogram,\n",
    "        foo=1\n",
    "    )\n",
    "    print(f'Saved {specname}.')"
   ]
  }
 ],
 "metadata": {
  "kernelspec": {
   "display_name": "Python 3 (ipykernel)",
   "language": "python",
   "name": "python3"
  },
  "language_info": {
   "codemirror_mode": {
    "name": "ipython",
    "version": 3
   },
   "file_extension": ".py",
   "mimetype": "text/x-python",
   "name": "python",
   "nbconvert_exporter": "python",
   "pygments_lexer": "ipython3",
   "version": "3.10.6"
  }
 },
 "nbformat": 4,
 "nbformat_minor": 5
}
