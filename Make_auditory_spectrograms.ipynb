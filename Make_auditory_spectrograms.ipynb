{
 "cells": [
  {
   "cell_type": "markdown",
   "id": "4ab85dc5",
   "metadata": {},
   "source": [
    "## Make and view auditory spectrograms"
   ]
  },
  {
   "cell_type": "code",
   "execution_count": null,
   "id": "e62d2340",
   "metadata": {},
   "outputs": [],
   "source": [
    "import os\n",
    "import numpy as np\n",
    "import librosa\n",
    "from audspec import Audspec\n",
    "import matplotlib.pyplot as plt\n",
    "from phonlab.utils import dir2df"
   ]
  },
  {
   "cell_type": "markdown",
   "id": "b965fc61",
   "metadata": {},
   "source": [
    "## Customize"
   ]
  },
  {
   "cell_type": "code",
   "execution_count": null,
   "id": "4412f71b",
   "metadata": {},
   "outputs": [],
   "source": [
    "wavdir = '/Users/ronald/src/audspec/resource/audio'  # Where to find the .wav files and textgrids.\n",
    "specdir = '/Users/ronald/src/audspec/resource/spec'  # Where to stash the spectrograms\n",
    "fs = 22050     # The .wav files will be resampled to the rate specified by `fs`.\n",
    "step = 0.005  # The frame step for the spectrogram, in seconds.\n",
    "maxpatterson_coef = 100\n",
    "rfftparams = {            # Params passed to rfft() in make_zgram()\n",
    "    'overwrite_x': True,  # Try to reduce memory usage\n",
    "    'workers': -1         # Use all CPUs\n",
    "}"
   ]
  },
  {
   "cell_type": "markdown",
   "id": "94781070",
   "metadata": {},
   "source": [
    "## Create the objects used in the analysis"
   ]
  },
  {
   "cell_type": "code",
   "execution_count": null,
   "id": "da8e1c1d",
   "metadata": {},
   "outputs": [],
   "source": [
    "# The Audspec to use for each of the .wav files.\n",
    "aud = Audspec(fs, step_size=step, maxcbfiltn=maxpatterson_coef)\n",
    "\n",
    "# Create image filters.\n",
    "sharp_1 = aud.create_sharp_filter(span=3, mult=2)\n",
    "sharp_2 = aud.create_sharp_filter(span=6, mult=1)\n",
    "temporal_sharp = aud.create_sharp_filter(span=0.05, mult=1, dimension=\"time\")\n",
    "blur = aud.create_blur_filter(span=3, sigma=3)"
   ]
  },
  {
   "cell_type": "markdown",
   "id": "ec46029e",
   "metadata": {},
   "source": [
    "## Find files to analyze"
   ]
  },
  {
   "cell_type": "code",
   "execution_count": null,
   "id": "51ea6614",
   "metadata": {},
   "outputs": [],
   "source": [
    "wavdf = dir2df(wavdir, fnpat='\\.wav$', addcols=['barename'])\n",
    "print(f'Found {len(wavdf)} .wav files.')\n",
    "wavdf"
   ]
  },
  {
   "cell_type": "markdown",
   "id": "d07ceef9",
   "metadata": {},
   "source": [
    "## Find cached spectrogram files"
   ]
  },
  {
   "cell_type": "code",
   "execution_count": null,
   "id": "9e091fa2",
   "metadata": {},
   "outputs": [],
   "source": [
    "specdf = dir2df(specdir, fnpat='(?P<wavname>.*)\\.audspec\\.npz$')\n",
    "print(f'Found {len(specdf)} .npz files.')\n",
    "specdf"
   ]
  },
  {
   "cell_type": "markdown",
   "id": "a1883191",
   "metadata": {},
   "source": [
    "## Merge to find .wav files that don't have a corresponding audspec file"
   ]
  },
  {
   "cell_type": "code",
   "execution_count": null,
   "id": "14ffc238",
   "metadata": {},
   "outputs": [],
   "source": [
    "todo = wavdf.merge(specdf, how='left', left_on='barename', right_on='wavname', suffixes=['_wav', '_spec'])\n",
    "todo = todo[todo['fname_spec'].isna()]\n",
    "print(f'Found {len(todo)} .wav files that need audspec processing.')\n",
    "todo"
   ]
  },
  {
   "cell_type": "markdown",
   "id": "756dde69",
   "metadata": {},
   "source": [
    "## Create and save spectrograms"
   ]
  },
  {
   "cell_type": "code",
   "execution_count": null,
   "id": "ae431f86",
   "metadata": {},
   "outputs": [],
   "source": [
    "for row in todo.itertuples():\n",
    "    data, _ = librosa.load(\n",
    "        os.path.join(wavdir, row.relpath_wav, row.fname_wav),\n",
    "        sr=fs\n",
    "    )\n",
    "#    break\n",
    "    # Create auditory spectrogram.\n",
    "    print('make_spect')\n",
    "    aud.make_spect(data, rfftparams)\n",
    "    print(f'made_spect of shape {aud.spect.shape}')\n",
    "#    break\n",
    "    print('make_zgram')\n",
    "    zgram = aud.make_zgram()\n",
    "\n",
    "    # Apply image filters to spectrogram.\n",
    "    print('make_lgram')\n",
    "    lgram = aud.apply_filt(zgram, sharp_1, axis=0, half_rectify=True)\n",
    "    print('make_igram')\n",
    "    igram = aud.apply_filt(lgram, blur, axis=0, half_rectify=False)\n",
    "    print('make_lgram')\n",
    "    lgram = aud.apply_filt(lgram, sharp_2, axis=0, half_rectify=True)\n",
    "\n",
    "    print('make_ogram')\n",
    "    ogram = aud.apply_filt(zgram, temporal_sharp, axis=1, half_rectify=True)\n",
    "\n",
    "    # Save to disk. The `allow_pickle=False` param helps with portability.\n",
    "    specname = os.path.join(specdir, f'{row.barename}.audspec.npz')\n",
    "    np.savez(\n",
    "        specname,\n",
    "        spect=aud.spect,\n",
    "        igram=igram,\n",
    "        lgram=lgram,\n",
    "        ogram=ogram,\n",
    "        times=self.spect_times\n",
    "    )\n",
    "#    print('make_audspec')\n",
    "#    np.save(specname, np.hstack((ogram, igram, lgram)), allow_pickle=False)\n",
    "#    print(f'Saved audspec as {specname}')\n",
    "#    specttimename = os.path.join(specdir, f'{row.barename}_audspec.times.npy')\n",
    "#    print('make_audspec.times')\n",
    "#    np.save(specttimename, aud.spect_times, allow_pickle=False)\n",
    "#    print(f'Saved audspec.times as {specttimename}')"
   ]
  }
 ],
 "metadata": {
  "kernelspec": {
   "display_name": "Python 3 (ipykernel)",
   "language": "python",
   "name": "python3"
  },
  "language_info": {
   "codemirror_mode": {
    "name": "ipython",
    "version": 3
   },
   "file_extension": ".py",
   "mimetype": "text/x-python",
   "name": "python",
   "nbconvert_exporter": "python",
   "pygments_lexer": "ipython3",
   "version": "3.10.4"
  }
 },
 "nbformat": 4,
 "nbformat_minor": 5
}
